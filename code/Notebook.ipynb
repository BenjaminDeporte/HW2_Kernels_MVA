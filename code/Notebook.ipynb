{
 "cells": [
  {
   "cell_type": "markdown",
   "id": "78c1e49c",
   "metadata": {},
   "source": [
    "# Exercice 3 - Support Vector Classifier"
   ]
  },
  {
   "cell_type": "markdown",
   "id": "4bb08c5f",
   "metadata": {},
   "source": [
    "# Support Vector Machines"
   ]
  },
  {
   "cell_type": "code",
   "execution_count": 1,
   "id": "3853bc7a",
   "metadata": {},
   "outputs": [],
   "source": [
    "import numpy as np\n",
    "import pickle as pkl\n",
    "from scipy import optimize\n",
    "from scipy.linalg import cho_factor, cho_solve\n",
    "import matplotlib.pyplot as plt\n",
    "from utils import plotClassification, plotRegression, plot_multiple_images, generateRings, scatter_label_points, loadMNIST\n",
    "%matplotlib inline"
   ]
  },
  {
   "cell_type": "markdown",
   "id": "f3b62e00",
   "metadata": {},
   "source": [
    "## Loading the data\n",
    "\n",
    "The file 'classification_datasets' contains 3 small classification datasets:\n",
    "    \n",
    "    - dataset_1: mixture of two well separated gaussians\n",
    "    - dataset_2: mixture of two gaussians that are not separeted\n",
    "    - dataset_3: XOR dataset that is non-linearly separable.\n",
    "   \n",
    "Each dataset is a hierarchical dictionary with the following structure:\n",
    "        \n",
    "        dataset = {'train': {'x': data, 'y':label}\n",
    "                    'test': {'x': data, 'y':label}\n",
    "                  }\n",
    "The data $x$ is an $N$ by $2$ matrix, while the label $y$ is a vector of size $N$. \n",
    "\n",
    "Only the third dateset is used. "
   ]
  },
  {
   "cell_type": "code",
   "execution_count": 2,
   "id": "60200f67",
   "metadata": {},
   "outputs": [
    {
     "ename": "TypeError",
     "evalue": "plotClassification() got an unexpected keyword argument 'ax'",
     "output_type": "error",
     "traceback": [
      "\u001b[0;31m---------------------------------------------------------------------------\u001b[0m",
      "\u001b[0;31mTypeError\u001b[0m                                 Traceback (most recent call last)",
      "Cell \u001b[0;32mIn[2], line 7\u001b[0m\n\u001b[1;32m      4\u001b[0m fig, ax \u001b[38;5;241m=\u001b[39m plt\u001b[38;5;241m.\u001b[39msubplots(\u001b[38;5;241m1\u001b[39m,\u001b[38;5;241m3\u001b[39m, figsize\u001b[38;5;241m=\u001b[39m(\u001b[38;5;241m20\u001b[39m, \u001b[38;5;241m5\u001b[39m))\n\u001b[1;32m      6\u001b[0m \u001b[38;5;28;01mfor\u001b[39;00m i, (name, dataset) \u001b[38;5;129;01min\u001b[39;00m \u001b[38;5;28menumerate\u001b[39m(datasets\u001b[38;5;241m.\u001b[39mitems()):    \n\u001b[0;32m----> 7\u001b[0m     \u001b[43mplotClassification\u001b[49m\u001b[43m(\u001b[49m\u001b[43mdataset\u001b[49m\u001b[43m[\u001b[49m\u001b[38;5;124;43m'\u001b[39;49m\u001b[38;5;124;43mtrain\u001b[39;49m\u001b[38;5;124;43m'\u001b[39;49m\u001b[43m]\u001b[49m\u001b[43m[\u001b[49m\u001b[38;5;124;43m'\u001b[39;49m\u001b[38;5;124;43mx\u001b[39;49m\u001b[38;5;124;43m'\u001b[39;49m\u001b[43m]\u001b[49m\u001b[43m,\u001b[49m\u001b[43m \u001b[49m\u001b[43mdataset\u001b[49m\u001b[43m[\u001b[49m\u001b[38;5;124;43m'\u001b[39;49m\u001b[38;5;124;43mtrain\u001b[39;49m\u001b[38;5;124;43m'\u001b[39;49m\u001b[43m]\u001b[49m\u001b[43m[\u001b[49m\u001b[38;5;124;43m'\u001b[39;49m\u001b[38;5;124;43my\u001b[39;49m\u001b[38;5;124;43m'\u001b[39;49m\u001b[43m]\u001b[49m\u001b[43m,\u001b[49m\u001b[43m \u001b[49m\u001b[43max\u001b[49m\u001b[38;5;241;43m=\u001b[39;49m\u001b[43max\u001b[49m\u001b[43m[\u001b[49m\u001b[43mi\u001b[49m\u001b[43m]\u001b[49m\u001b[43m)\u001b[49m\n\u001b[1;32m      8\u001b[0m     ax[i]\u001b[38;5;241m.\u001b[39mset_title(name)\n",
      "\u001b[0;31mTypeError\u001b[0m: plotClassification() got an unexpected keyword argument 'ax'"
     ]
    },
    {
     "data": {
      "image/png": "[encoded data removed]",
      "text/plain": [
       "<Figure size 2000x500 with 3 Axes>"
      ]
     },
     "metadata": {},
     "output_type": "display_data"
    }
   ],
   "source": [
    "file = open('datasets/classification_datasets', 'rb')\n",
    "datasets = pkl.load(file)\n",
    "file.close()\n",
    "fig, ax = plt.subplots(1,3, figsize=(20, 5))\n",
    "\n",
    "for i, (name, dataset) in enumerate(datasets.items()):    \n",
    "    plotClassification(dataset['train']['x'], dataset['train']['y'], ax=ax[i])\n",
    "    ax[i].set_title(name)"
   ]
  },
  {
   "cell_type": "markdown",
   "id": "61db8dd7",
   "metadata": {},
   "source": [
    "## III- Kernel SVC \n",
    "### 1- Implementing the Gaussian Kernel\n",
    "Implement the method 'kernel' of the class RBF and linear below, which takes as input two data matrices $X$ and $Y$ of size $N\\times d$ and $M\\times d$ and returns a gramm matrix $G$ of shape $N\\times M$ whose components are $k(x_i,y_j) = \\exp(-\\Vert x_i-y_j\\Vert^2/(2\\sigma^2))$ for the RBF kernel and $k(x_i,y_j)= x_i^{\\top}y_j$ for the linear kernel. (The fastest solution does not use any for loop!)"
   ]
  },
  {
   "cell_type": "code",
   "execution_count": 2,
   "id": "d8f1edb6",
   "metadata": {},
   "outputs": [],
   "source": [
    "class RBF:\n",
    "    def __init__(self, sigma=1.):\n",
    "        self.sigma = sigma  ## the variance of the kernel\n",
    "    def kernel(self,X,Y):\n",
    "        ## Input vectors X and Y of shape Nxd and Mxd\n",
    "        squared_distances = np.array([ [ np.sum((x[i,:]-y[j,:])**2) for j in range(y.shape[0]) ] for i in range(x.shape[0])])\n",
    "        return np.exp( -1/(2*sigma**2) * squared_distances )"
   ]
  },
  {
   "cell_type": "code",
   "execution_count": 3,
   "id": "f91496c6",
   "metadata": {},
   "outputs": [],
   "source": [
    "class Linear:\n",
    "    def kernel(self,X,Y):\n",
    "        ## Input vectors X and Y of shape Nxd and Mxd\n",
    "        return  X @ Y.T"
   ]
  },
  {
   "cell_type": "markdown",
   "id": "571bbd4b",
   "metadata": {},
   "source": [
    "## Question 1"
   ]
  },
  {
   "cell_type": "markdown",
   "id": "118e26bc",
   "metadata": {},
   "source": [
    "Representer theorem :\n",
    "\n",
    "$f(x) = \\sum_{i=1}^n \\alpha_i \\textbf{K}(x_i,x)$\n",
    "\n",
    "Lagrangien :\n",
    "\n",
    "$\\mathcal{L}(\\alpha,\\xi,b, \\mu,\\nu) = \\frac{1}{2}\\alpha^T \\textbf{K} \\alpha + C \\sum_{i=1}^{n}\\xi_i - \\sum_{i=1}^{n} \\mu_i \\left( y_i ( [\\textbf{K}\\alpha]_i + b) + \\xi_i - 1 \\right) - \\sum_{i=1}^{n} \\nu_i \\xi_i$\n",
    "\n",
    "Gradients :\n",
    "\n",
    "$\\nabla_\\alpha \\mathcal{L} = \\textbf{K} \\left( \\alpha - \\text{diag}(y)\\mu \\right)$\n",
    "\n",
    "$\\nabla_\\xi \\mathcal{L} = C \\textbf{1} - (\\nu + \\mu)$\n",
    "\n",
    "$\\nabla_b \\mathcal{L} = \\mu^T y$\n",
    "\n",
    "Optimal points :\n",
    "\n",
    "$\\alpha^* = \\text{diag}(y) \\mu$\n",
    "\n",
    "$\\mu + \\nu = C\\textbf{1}$\n",
    "\n",
    "$\\mu^T y = 0$\n",
    "\n",
    "Dual function :\n",
    "\n",
    "$g(\\nu,\\mu) = \\underset{\\alpha, \\xi, b}{\\text{inf}}\\,\\,\\mathcal{L} = -\\frac{1}{2} \\text{diag}(y) \\mu^T \\textbf{K} \\mu \\text{diag}(y) + \\mu^T \\textbf{1}$\n",
    "\n",
    "st $\\mu + \\nu = C$ et $\\mu^T y = 0$\n",
    "\n",
    "Complementary slackness :\n",
    "\n",
    "$\\alpha_i \\left( y_i (f(x_i) + b) + \\xi_i - 1 \\right) = 0, \\,\\, \\forall i$\n",
    "\n",
    "$\\left( C y_i - \\alpha_i\\right) \\xi_i = 0, \\,\\, \\forall i$\n",
    "\n",
    "Dual problem :\n",
    "\n",
    "$ \\underset{\\alpha}{\\text{min}} \\,\\, \\frac{1}{2}\\alpha^T \\textbf{K} \\alpha - \\alpha^T y $\n",
    "\n",
    "st : $0 \\leq \\alpha_i y_i \\leq C, \\,\\, \\forall i$ et $ \\alpha^T y = 0$\n",
    "\n",
    "(NB : on utilise le fait que $\\alpha_i = y_i \\mu_i \\implies \\mu_i = \\alpha_i y_i \\,\\, \\forall i$ puisque $y_i = \\pm 1$...)\n",
    "\n",
    "Support vector points :\n",
    "\n",
    "$\\alpha_i = 0 \\implies \\xi=0, \\,\\, y_i (f(x_i)+b) > 1$  point bien classé\n",
    "\n",
    "$\\alpha_i y_i = C \\implies \\xi_i >0, \\,\\,  y_i (f(x_i)+b) < 1$ point avec marge inférieure à 1\n",
    "\n",
    "$0 < \\alpha_i y_i < C \\implies y_i (f(x_i)+b) = 1$ support vector\n",
    "\n",
    "Parameter b :\n",
    "\n",
    "Sur l'ensemble $\\mathcal{S}$ des support vectors, on résoud $y_i (f(x_i)+b) = 1$ puis on moyenne, d'où $b = \\frac{1}{\\vert \\mathcal{S} \\vert} \\sum_{\\mathcal{S}} \\left( \\frac{1}{y_i} - \\textbf{K}\\alpha \\vert_i \\right) $"
   ]
  },
  {
   "cell_type": "markdown",
   "id": "5c925020",
   "metadata": {},
   "source": [
    "\n",
    "### 2- Implementing the classifier\n",
    "Implement the methods 'fit' and 'separating_function' of the class KernelSVC below to learn the Kernel Support Vector Classifier."
   ]
  },
  {
   "cell_type": "code",
   "execution_count": null,
   "id": "6ae012f9",
   "metadata": {},
   "outputs": [],
   "source": [
    "class KernelSVC:\n",
    "    \n",
    "    def __init__(self, C, kernel, epsilon = 1e-3):\n",
    "        self.type = 'non-linear'\n",
    "        self.C = C                               \n",
    "        self.kernel = kernel        \n",
    "        self.alpha = None\n",
    "        self.support = None # support vectors\n",
    "        self.epsilon = epsilon\n",
    "        self.norm_f = None\n",
    "       \n",
    "    \n",
    "    def fit(self, X, y):\n",
    "        #### You might define here any variable needed for the rest of the code\n",
    "        N = len(y)\n",
    "        self.X = X\n",
    "        self.y = y\n",
    "        # compute gram matrix, we might need it :-)\n",
    "        self.gram = self.kernel(X,X)\n",
    "        # vector of ones, size N\n",
    "        ones = np.ones(N)\n",
    "        # matrix NxN of y_i on diagonal\n",
    "        Dy = np.diag(y)\n",
    "\n",
    "        # Lagrange dual problem\n",
    "        def loss(alpha):\n",
    "            objective_function = 1/2 * alpha @ self.gram @ alpha - alpha @ y\n",
    "            return  objective_function\n",
    "\n",
    "        # Partial derivate of Ld on alpha\n",
    "        def grad_loss(alpha):\n",
    "            gradient = self.gram @ alpha - y\n",
    "            return gradient\n",
    "        \n",
    "        # Constraints on alpha of the shape :\n",
    "        # -  d - C*alpha  = 0\n",
    "        # -  b - A*alpha >= 0\n",
    "\n",
    "        fun_eq = lambda alpha: alpha @ y        \n",
    "        jac_eq = lambda alpha: y\n",
    "        fun_ineq_1 = lambda alpha: Dy @ alpha    \n",
    "        jac_ineq_1 = lambda alpha: Dy  # '''---------------jacobian wrt alpha of the  inequality constraint-------------------'''\n",
    "        fun_ineq_2 = lambda alpha : C * ones - Dy @ alpha\n",
    "        jac_ineq_2 = lambda alpha: -Dy  # '''---------------jacobian wrt alpha of the  inequality constraint-------------------'''\n",
    "        # fun_ineq = lambda alpha: np.concatenate((fun_ineq_1(alpha), fun_ineq_2(alpha)))\n",
    "        \n",
    "        constraints = ( [{'type': 'eq', 'fun': fun_eq, 'jac': jac_eq},\n",
    "                        {'type': 'ineq', 'fun': fun_ineq_1, 'jac': jac_ineq_1},\n",
    "                        {'type': 'ineq', 'fun': fun_ineq_2, 'jac': jac_ineq_2}]\n",
    "                        )\n",
    "\n",
    "        optRes = optimize.minimize(fun=lambda alpha: loss(alpha),\n",
    "                                   x0=np.ones(N), \n",
    "                                   method='SLSQP', \n",
    "                                   jac=lambda alpha: grad_loss(alpha), \n",
    "                                   constraints=constraints)\n",
    "        self.alpha = optRes.x\n",
    "\n",
    "        ## Assign the required attributes\n",
    "    \n",
    "        #'''------------------- A matrix with each row corresponding to support vectors ------------------'''\n",
    "        # list of indices of support vectors in dataset, None if not a support vector\n",
    "        self.indices_support = np.array([ i if (0 < self.alpha[i]*y[i]) and (self.alpha[i]*y[i] < C) else None for i in range(N) ])\n",
    "        # support vectors\n",
    "        self.support = np.array([ self.alpha[i] if self.indices_support[i] is not None else None for i in range(N) ]) \n",
    "        self.support = self.support[self.support != None]\n",
    "        # data points of support vectors\n",
    "        self.X_sv = np.zeros((self.support.shape[0],self.X.shape[1]))\n",
    "        isv = 0\n",
    "        for i in range(N):\n",
    "            if self.indices_support[i] is not None:\n",
    "                self.X_sv[isv,:] = X[i]\n",
    "                isv += 1\n",
    "        #'''------------------- b offset of the classifier ------------------'''\n",
    "        b = 0\n",
    "        Ka = self.gram @ self.alpha\n",
    "        for i in range(N):\n",
    "            if self.indices_support[i] is not None:\n",
    "                b += 1/y[i] - Ka[i]\n",
    "        self.b = b / len(self.support)\n",
    "        # '''------------------------RKHS norm of the function f ------------------------------'''\n",
    "        self.norm_f = 1/2 * self.alpha @ self.gram @ self.alpha\n",
    "        \n",
    "        return self\n",
    "\n",
    "\n",
    "    ### Implementation of the separting function $f$ \n",
    "    def separating_function(self,x):\n",
    "        # Input : matrix x of shape N data points times d dimension\n",
    "        # Output: vector of size N\n",
    "        return self.kernel(x, self.X_sv) @ self.support + self.b\n",
    "    \n",
    "    \n",
    "    def predict(self, X):\n",
    "        \"\"\" Predict y values in {-1, 1} \"\"\"\n",
    "        d = self.separating_function(X)\n",
    "        return 2 * (d+self.b> 0) - 1"
   ]
  },
  {
   "cell_type": "markdown",
   "id": "2129641d-a03c-4d4c-85fd-52657901c5a1",
   "metadata": {},
   "source": [
    "# 2 b- Implementing the visualization function\n",
    "Implement the function plotClassification that takes new data as input and the model, then displays separating function and margins along with misclassified points."
   ]
  },
  {
   "cell_type": "code",
   "execution_count": null,
   "id": "c6b807d9-df4c-4335-aaa6-a9bda19ddb7a",
   "metadata": {},
   "outputs": [],
   "source": [
    "import matplotlib.pyplot as plt\n",
    "import matplotlib.colors as pltcolors\n",
    "import seaborn as sns\n",
    "\n",
    "def plotHyperSurface(ax, xRange, model, intercept, label, color='grey', linestyle='-', alpha=1.):\n",
    "    #xx = np.linspace(-1, 1, 100)\n",
    "    if model.type=='linear':\n",
    "        xRange = np.array(xRange)\n",
    "        yy = -(model.w[0] / model.w[1]) * xRange  - intercept/model.w[1]\n",
    "        ax.plot(xRange, yy, color=color, label=label, linestyle=linestyle)\n",
    "    else:\n",
    "        xRange = np.linspace(xRange[0], xRange[1], 100)\n",
    "        X0, X1 = np.meshgrid(xRange, xRange)\n",
    "        xy = np.vstack([X0.ravel(), X1.ravel()]).T\n",
    "        Y30 = model.separating_function(xy).reshape(X0.shape) + intercept\n",
    "        ax.contour(X0, X1, Y30, colors=color, levels=[0.], alpha=alpha, linestyles=[linestyle]);\n",
    "\n",
    "\n",
    "def plotClassification(X, y, model=None, label='',  separatorLabel='Separator', \n",
    "            ax=None, bound=[[-1., 1.], [-1., 1.]]):\n",
    "    \"\"\" Plot the SVM separation, and margin \"\"\"\n",
    "    colors = ['blue','red']\n",
    "    labels = [1,-1]\n",
    "    cmap = pltcolors.ListedColormap(colors)\n",
    "    if ax is None:\n",
    "        fig, ax = plt.subplots(1, figsize=(11, 7))\n",
    "    for k, label in enumerate(labels):\n",
    "        im = ax.scatter(X[y==label,0], X[y==label,1],  alpha=0.5,label='class '+str(label))\n",
    "\n",
    "    if model is not None:\n",
    "        # Plot the seprating function\n",
    "        plotHyperSurface(ax, bound[0], model, model.b, separatorLabel)\n",
    "        if model.support is not None:\n",
    "            ax.scatter(model.support[:,0], model.support[:,1], label='Support', s=80, facecolors='none', edgecolors='r', color='r')\n",
    "            print(\"Number of support vectors = %d\" % (len(model.support)))\n",
    "        \n",
    "        # Plot the margins\n",
    "        intercept_neg = ### compute the intercept for the negative margin\n",
    "        intercept_pos = ### compute the intercept for the positive margin\n",
    "        xx = np.array(bound[0])\n",
    "        plotHyperSurface(ax, xx, model, intercept_neg , 'Margin -', linestyle='-.', alpha=0.8)\n",
    "        plotHyperSurface(ax, xx, model, intercept_pos , 'Margin +', linestyle='--', alpha=0.8)\n",
    "            \n",
    "        # Plot points on the wrong side of the margin\n",
    "        wrong_side_points = # find wrong points\n",
    "        ax.scatter(wrong_side_points[:,0], wrong_side_points[:,1], label='Beyond the margin', s=80, facecolors='none', \n",
    "               edgecolors='grey', color='grey')  \n",
    "        \n",
    "    ax.legend(loc='upper left')\n",
    "    ax.grid()\n",
    "    ax.set_xlim(bound[0])\n",
    "    ax.set_ylim(bound[1])"
   ]
  },
  {
   "cell_type": "markdown",
   "id": "86328951",
   "metadata": {},
   "source": [
    "### 3- Fitting the classifier\n",
    "\n",
    "Run the code block below to fit the classifier and report its output."
   ]
  },
  {
   "cell_type": "markdown",
   "id": "d4ff8e38",
   "metadata": {},
   "source": [
    "### Dataset 1\n",
    "#### Linear classifier"
   ]
  },
  {
   "cell_type": "code",
   "execution_count": null,
   "id": "a4963bae",
   "metadata": {},
   "outputs": [],
   "source": [
    "C=1.\n",
    "kernel = Linear().kernel\n",
    "model = KernelSVC(C=C, kernel=kernel, epsilon=1e-14)\n",
    "train_dataset = datasets['dataset_1']['train']\n",
    "model.fit(train_dataset['x'], train_dataset['y'])\n",
    "plotClassification(train_dataset['x'], train_dataset['y'], model, label='Training')"
   ]
  },
  {
   "cell_type": "markdown",
   "id": "69cbbe52",
   "metadata": {},
   "source": [
    "#### Gaussian classifier"
   ]
  },
  {
   "cell_type": "code",
   "execution_count": null,
   "id": "dae87426",
   "metadata": {},
   "outputs": [],
   "source": [
    "sigma = 1.5\n",
    "C=1.\n",
    "kernel = RBF(sigma).kernel\n",
    "model = KernelSVC(C=C, kernel=kernel, epsilon=1e-14)\n",
    "train_dataset = datasets['dataset_1']['train']\n",
    "model.fit(train_dataset['x'], train_dataset['y'])\n",
    "plotClassification(train_dataset['x'], train_dataset['y'], model, label='Training')"
   ]
  },
  {
   "cell_type": "markdown",
   "id": "45732d89",
   "metadata": {},
   "source": [
    "### Dataset 2\n",
    "#### Linear SVM"
   ]
  },
  {
   "cell_type": "code",
   "execution_count": null,
   "id": "e677328d",
   "metadata": {},
   "outputs": [],
   "source": [
    "C=.1\n",
    "kernel = Linear().kernel\n",
    "model = KernelSVC(C=C, kernel=kernel, epsilon=1e-14)\n",
    "train_dataset = datasets['dataset_2']['train']\n",
    "model.fit(train_dataset['x'], train_dataset['y'])\n",
    "plotClassification(train_dataset['x'], train_dataset['y'], model, label='Training')"
   ]
  },
  {
   "cell_type": "markdown",
   "id": "7e0fcda5",
   "metadata": {},
   "source": [
    "#### Gaussian SVM"
   ]
  },
  {
   "cell_type": "code",
   "execution_count": null,
   "id": "27a801b3",
   "metadata": {},
   "outputs": [],
   "source": [
    "sigma = 1.5\n",
    "C=1.\n",
    "kernel = RBF(sigma).kernel\n",
    "model = KernelSVC(C=C, kernel=kernel, epsilon=1e-14)\n",
    "train_dataset = datasets['dataset_2']['train']\n",
    "model.fit(train_dataset['x'], train_dataset['y'])\n",
    "plotClassification(train_dataset['x'], train_dataset['y'], model, label='Training')"
   ]
  },
  {
   "cell_type": "markdown",
   "id": "816e72a0",
   "metadata": {},
   "source": [
    "### Dataset 3\n",
    "#### Linear SVM"
   ]
  },
  {
   "cell_type": "code",
   "execution_count": null,
   "id": "03a5391f",
   "metadata": {},
   "outputs": [],
   "source": [
    "C=1.\n",
    "kernel = Linear().kernel\n",
    "model = KernelSVC(C=C, kernel=kernel, epsilon=1e-14)\n",
    "train_dataset = datasets['dataset_3']['train']\n",
    "model.fit(train_dataset['x'], train_dataset['y'])\n",
    "plotClassification(train_dataset['x'], train_dataset['y'], model, label='Training')"
   ]
  },
  {
   "cell_type": "markdown",
   "id": "a546d52e",
   "metadata": {},
   "source": [
    "#### Gaussian SVM"
   ]
  },
  {
   "cell_type": "code",
   "execution_count": null,
   "id": "dc6bfbee",
   "metadata": {},
   "outputs": [],
   "source": [
    "sigma = 1.5\n",
    "C=100.\n",
    "kernel = RBF(sigma).kernel\n",
    "model = KernelSVC(C=C, kernel=kernel)\n",
    "train_dataset = datasets['dataset_3']['train']\n",
    "model.fit(train_dataset['x'], train_dataset['y'])\n",
    "plotClassification(train_dataset['x'], train_dataset['y'], model, label='Training')"
   ]
  }
 ],
 "metadata": {
  "kernelspec": {
   "display_name": "kernel_project",
   "language": "python",
   "name": "python3"
  },
  "language_info": {
   "codemirror_mode": {
    "name": "ipython",
    "version": 3
   },
   "file_extension": ".py",
   "mimetype": "text/x-python",
   "name": "python",
   "nbconvert_exporter": "python",
   "pygments_lexer": "ipython3",
   "version": "undefined.undefined.undefined"
  }
 },
 "nbformat": 4,
 "nbformat_minor": 5
}
